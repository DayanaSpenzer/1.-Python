{
 "cells": [
  {
   "cell_type": "code",
   "execution_count": null,
   "id": "4d909c4b-2786-4024-ba22-0dfc71f2889c",
   "metadata": {},
   "outputs": [],
   "source": [
    "# PrintStatement"
   ]
  },
  {
   "cell_type": "code",
   "execution_count": 1,
   "id": "8a4a8cb4-40b7-4da5-84af-1fd61fafb2d2",
   "metadata": {},
   "outputs": [
    {
     "name": "stdin",
     "output_type": "stream",
     "text": [
      "Enter your Institute Name: HOPE AI\n"
     ]
    },
    {
     "name": "stdout",
     "output_type": "stream",
     "text": [
      "Your Institute Name is: HOPE AI\n"
     ]
    }
   ],
   "source": [
    "Name=input(\"Enter your Institute Name:\")\n",
    "print(\"Your Institute Name is:\",Name)"
   ]
  },
  {
   "cell_type": "code",
   "execution_count": null,
   "id": "b5303330-28a5-4bae-8964-17520e7987c3",
   "metadata": {},
   "outputs": [],
   "source": [
    "#Get input from the console"
   ]
  },
  {
   "cell_type": "code",
   "execution_count": 3,
   "id": "92121dec-cdf2-451c-bcba-b43a5e6a4d44",
   "metadata": {},
   "outputs": [
    {
     "name": "stdin",
     "output_type": "stream",
     "text": [
      "Enter your Name: Dayana\n",
      "Enter your Age: 38\n",
      "Enter your School Name: Fathima Girls Higher Secondary School\n",
      "Enter your Highest Qualification: MCA\n"
     ]
    }
   ],
   "source": [
    "Name=input(\"Enter your Name:\")\n",
    "Age=int(input(\"Enter your Age:\"))\n",
    "Sch=input(\"Enter your School Name:\")\n",
    "Qual=input(\"Enter your Highest Qualification:\")"
   ]
  },
  {
   "cell_type": "code",
   "execution_count": null,
   "id": "7806d7a6-1dd5-4cd8-b263-e026e9e5b2f9",
   "metadata": {},
   "outputs": [],
   "source": [
    "#Addition"
   ]
  },
  {
   "cell_type": "code",
   "execution_count": 5,
   "id": "0f2be0ae-52c2-4f42-9ad3-7db5d564b194",
   "metadata": {},
   "outputs": [
    {
     "name": "stdin",
     "output_type": "stream",
     "text": [
      "Enter the number1: 45\n",
      "Enter the number2: 67\n"
     ]
    },
    {
     "name": "stdout",
     "output_type": "stream",
     "text": [
      "The Sum is: 112\n"
     ]
    }
   ],
   "source": [
    "Num1=int(input(\"Enter the number1:\"))\n",
    "Num2=int(input(\"Enter the number2:\"))\n",
    "Add=Num1+Num2\n",
    "print(\"The Sum is:\",Add)"
   ]
  },
  {
   "cell_type": "code",
   "execution_count": null,
   "id": "0d13269e-01eb-4029-afc8-0bc34cb39174",
   "metadata": {},
   "outputs": [],
   "source": [
    "#Subtraction"
   ]
  },
  {
   "cell_type": "code",
   "execution_count": 7,
   "id": "d1886065-cf32-4e14-aef5-f38ae0495959",
   "metadata": {},
   "outputs": [
    {
     "name": "stdin",
     "output_type": "stream",
     "text": [
      "Enter the number1: 65\n",
      "Enter the number2: 45\n"
     ]
    },
    {
     "name": "stdout",
     "output_type": "stream",
     "text": [
      "The Difference is: 20\n"
     ]
    }
   ],
   "source": [
    "Num1=int(input(\"Enter the number1:\"))\n",
    "Num2=int(input(\"Enter the number2:\"))\n",
    "\n",
    "if Num1>Num2:\n",
    "    Sub=Num1-Num2\n",
    "    print(\"The Difference is:\",Sub)\n",
    "else:\n",
    "    Sub=Num2-Num1\n",
    "    print(\"The Difference is:\",Sub)"
   ]
  },
  {
   "cell_type": "code",
   "execution_count": null,
   "id": "37ff9e7f-44a5-4824-9730-00f37396438a",
   "metadata": {},
   "outputs": [],
   "source": [
    "#Multiplication"
   ]
  },
  {
   "cell_type": "code",
   "execution_count": 9,
   "id": "6542042b-6423-494b-a4a2-7e2f539091f6",
   "metadata": {},
   "outputs": [
    {
     "name": "stdin",
     "output_type": "stream",
     "text": [
      "Enter the number1: 56\n",
      "Enter the number2: 3\n"
     ]
    },
    {
     "name": "stdout",
     "output_type": "stream",
     "text": [
      "The product is: 168\n"
     ]
    }
   ],
   "source": [
    "Num1=int(input(\"Enter the number1:\"))\n",
    "Num2=int(input(\"Enter the number2:\"))\n",
    "Prod = Num1*Num2\n",
    "print(\"The product is:\",Prod)"
   ]
  },
  {
   "cell_type": "code",
   "execution_count": null,
   "id": "c8582695-a32a-4e94-b0e2-b543beca076a",
   "metadata": {},
   "outputs": [],
   "source": [
    "#Floor Division"
   ]
  },
  {
   "cell_type": "code",
   "execution_count": 10,
   "id": "0096b982-5947-4199-9054-bb6a58d6106e",
   "metadata": {},
   "outputs": [
    {
     "name": "stdin",
     "output_type": "stream",
     "text": [
      "Enter the number1: 5\n",
      "Enter the number2: 2\n"
     ]
    },
    {
     "name": "stdout",
     "output_type": "stream",
     "text": [
      "The Quotient is: 2\n"
     ]
    }
   ],
   "source": [
    "Num1=int(input(\"Enter the number1:\"))\n",
    "Num2=int(input(\"Enter the number2:\"))\n",
    "Div = Num1//Num2\n",
    "print(\"The Quotient is:\",Div)"
   ]
  },
  {
   "cell_type": "code",
   "execution_count": null,
   "id": "f7c47e50-3372-4205-b2c8-d4eee42ea4f4",
   "metadata": {},
   "outputs": [],
   "source": [
    "#Modulo Operator"
   ]
  },
  {
   "cell_type": "code",
   "execution_count": 11,
   "id": "1f4b6879-95c5-4e84-866e-133c4bd2c608",
   "metadata": {},
   "outputs": [
    {
     "name": "stdin",
     "output_type": "stream",
     "text": [
      "Enter the number1: 4\n",
      "Enter the number2: 2\n"
     ]
    },
    {
     "name": "stdout",
     "output_type": "stream",
     "text": [
      "The Remainder is: 0\n"
     ]
    }
   ],
   "source": [
    "Num1=int(input(\"Enter the number1:\"))\n",
    "Num2=int(input(\"Enter the number2:\"))\n",
    "Mod=Num1%Num2\n",
    "print(\"The Remainder is:\",Mod)"
   ]
  },
  {
   "cell_type": "code",
   "execution_count": null,
   "id": "e9402da5-3f59-4b11-9818-f977ec06d0a8",
   "metadata": {},
   "outputs": [],
   "source": [
    "#Power operation"
   ]
  },
  {
   "cell_type": "code",
   "execution_count": 12,
   "id": "bb1a6537-b9d0-4a68-af93-8ba664c12ab7",
   "metadata": {},
   "outputs": [
    {
     "name": "stdin",
     "output_type": "stream",
     "text": [
      "Enter the number1: 2\n",
      "Enter the number2: 3\n"
     ]
    },
    {
     "name": "stdout",
     "output_type": "stream",
     "text": [
      "The Answer is: 8\n"
     ]
    }
   ],
   "source": [
    "Num1=int(input(\"Enter the number1:\"))\n",
    "Num2=int(input(\"Enter the number2:\"))\n",
    "Exp=Num1**Num2\n",
    "print(\"The Answer is:\",Exp)"
   ]
  },
  {
   "cell_type": "code",
   "execution_count": null,
   "id": "d5f34c97-d529-44ab-aa85-ebc67637d20a",
   "metadata": {},
   "outputs": [],
   "source": [
    "#Pow function"
   ]
  },
  {
   "cell_type": "code",
   "execution_count": 13,
   "id": "2ededd98-a530-48cb-b1f4-7858d99e03c2",
   "metadata": {},
   "outputs": [
    {
     "name": "stdin",
     "output_type": "stream",
     "text": [
      "Enter the Base Number: 5\n",
      "Enter the Exponent Number: 2\n"
     ]
    },
    {
     "name": "stdout",
     "output_type": "stream",
     "text": [
      "The Answer is: 25\n"
     ]
    }
   ],
   "source": [
    "Base=int(input(\"Enter the Base Number:\"))\n",
    "Exp=int(input(\"Enter the Exponent Number:\"))\n",
    "res=pow(Base,Exp)\n",
    "print(\"The Answer is:\",res)"
   ]
  },
  {
   "cell_type": "code",
   "execution_count": null,
   "id": "9154c065-fcd9-4ffd-850e-a3a4e5ee2bc1",
   "metadata": {},
   "outputs": [],
   "source": []
  }
 ],
 "metadata": {
  "kernelspec": {
   "display_name": "Python [conda env:base] *",
   "language": "python",
   "name": "conda-base-py"
  },
  "language_info": {
   "codemirror_mode": {
    "name": "ipython",
    "version": 3
   },
   "file_extension": ".py",
   "mimetype": "text/x-python",
   "name": "python",
   "nbconvert_exporter": "python",
   "pygments_lexer": "ipython3",
   "version": "3.13.5"
  }
 },
 "nbformat": 4,
 "nbformat_minor": 5
}
