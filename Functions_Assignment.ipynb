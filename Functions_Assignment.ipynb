{
 "cells": [
  {
   "cell_type": "code",
   "execution_count": null,
   "id": "5c8ee33b-2cec-4408-8acf-f139df93e865",
   "metadata": {},
   "outputs": [],
   "source": [
    "#Subfields in AI"
   ]
  },
  {
   "cell_type": "code",
   "execution_count": 53,
   "id": "6204ffc4-bc39-4a49-a7af-21b2919055c2",
   "metadata": {},
   "outputs": [],
   "source": [
    "def sub_ai():\n",
    "    subfields=['Machine Learning','Neural Networks','Vision','Robotics',\n",
    "               'Speech Processing','Natural Language Processing']\n",
    "    for temp in subfields:\n",
    "        print (\"Subfields in AI are:\")\n",
    "        return subfields"
   ]
  },
  {
   "cell_type": "code",
   "execution_count": 54,
   "id": "f4df5597-d984-434f-9b02-b5a1a885666e",
   "metadata": {},
   "outputs": [
    {
     "name": "stdout",
     "output_type": "stream",
     "text": [
      "Subfields in AI are:\n"
     ]
    },
    {
     "data": {
      "text/plain": [
       "['Machine Learning',\n",
       " 'Neural Networks',\n",
       " 'Vision',\n",
       " 'Robotics',\n",
       " 'Speech Processing',\n",
       " 'Natural Language Processing']"
      ]
     },
     "execution_count": 54,
     "metadata": {},
     "output_type": "execute_result"
    }
   ],
   "source": [
    "sub_ai()"
   ]
  },
  {
   "cell_type": "code",
   "execution_count": null,
   "id": "b8655a5f-6d78-439f-a7bc-b12e5b7ec46f",
   "metadata": {},
   "outputs": [],
   "source": [
    "# Create a function that checks whether the given number is Odd or Even "
   ]
  },
  {
   "cell_type": "code",
   "execution_count": 8,
   "id": "63f1d307-9698-4e3f-863d-29d58f55836c",
   "metadata": {},
   "outputs": [],
   "source": [
    "def OddEven():\n",
    "    if num%2==0:\n",
    "        print(num,\" is Even number\")\n",
    "    else:\n",
    "        print(num,\" is Odd number\")"
   ]
  },
  {
   "cell_type": "code",
   "execution_count": 9,
   "id": "95d613bc-0c6d-4d7c-a4f2-79e1e42c8928",
   "metadata": {},
   "outputs": [
    {
     "name": "stdin",
     "output_type": "stream",
     "text": [
      "Enter the number 44\n"
     ]
    },
    {
     "name": "stdout",
     "output_type": "stream",
     "text": [
      "44  is Even number\n"
     ]
    }
   ],
   "source": [
    "num=int(input(\"Enter the number\"))\n",
    "OddEven()"
   ]
  },
  {
   "cell_type": "code",
   "execution_count": null,
   "id": "cfd9d1c9-74c6-4bcc-8d1c-0901bde3e250",
   "metadata": {},
   "outputs": [],
   "source": [
    "#Eligibility check for marriage"
   ]
  },
  {
   "cell_type": "code",
   "execution_count": 23,
   "id": "d59c2049-512c-4c56-92d7-e9b1e7b02141",
   "metadata": {},
   "outputs": [],
   "source": [
    "def Elig_Mar():\n",
    "    if age >= 25 and gen=='male':\n",
    "        print(\"You are eligible for marriage\")\n",
    "    elif age >=21 and gen=='female':\n",
    "        print(\"You are eligible for marriage\")\n",
    "    else:\n",
    "        print(\"You are not eligible for marriage\")"
   ]
  },
  {
   "cell_type": "code",
   "execution_count": 25,
   "id": "1729eb58-bc8b-4904-a036-52ea1042ab79",
   "metadata": {},
   "outputs": [
    {
     "name": "stdin",
     "output_type": "stream",
     "text": [
      "Enter your age: 23\n",
      "Enter your gender(male or female): male\n"
     ]
    },
    {
     "name": "stdout",
     "output_type": "stream",
     "text": [
      "You are not eligible for marriage\n"
     ]
    }
   ],
   "source": [
    "age=int(input(\"Enter your age:\"))\n",
    "gen=input(\"Enter your gender(male or female):\")\n",
    "Elig_Mar()"
   ]
  },
  {
   "cell_type": "code",
   "execution_count": null,
   "id": "c121970e-ad62-4991-85f7-29321a317020",
   "metadata": {},
   "outputs": [],
   "source": [
    "#Percentage calculation"
   ]
  },
  {
   "cell_type": "code",
   "execution_count": 35,
   "id": "1bef963a-3c70-44e6-b715-bcd6eb95c0bf",
   "metadata": {},
   "outputs": [],
   "source": [
    "def calc_percent():\n",
    "    sum=Sub1+Sub2+Sub3+Sub4+Sub5\n",
    "    Quo=sum/5\n",
    "    print(\"Your percentage is:\",Quo)\n",
    "    return Quo    "
   ]
  },
  {
   "cell_type": "code",
   "execution_count": 37,
   "id": "df72888f-84b5-46b7-ac08-b285461e2935",
   "metadata": {},
   "outputs": [
    {
     "name": "stdin",
     "output_type": "stream",
     "text": [
      "Enter the marks for Subject1: 99\n",
      "Enter the marks for Subject2: 99\n",
      "Enter the marks for Subject3: 99\n",
      "Enter the marks for Subject4: 99\n",
      "Enter the marks for Subject5: 99\n"
     ]
    },
    {
     "name": "stdout",
     "output_type": "stream",
     "text": [
      "Your percentage is: 99.0\n"
     ]
    },
    {
     "data": {
      "text/plain": [
       "99.0"
      ]
     },
     "execution_count": 37,
     "metadata": {},
     "output_type": "execute_result"
    }
   ],
   "source": [
    "Sub1=int(input(\"Enter the marks for Subject1:\"))\n",
    "Sub2=int(input(\"Enter the marks for Subject2:\"))\n",
    "Sub3=int(input(\"Enter the marks for Subject3:\"))\n",
    "Sub4=int(input(\"Enter the marks for Subject4:\"))\n",
    "Sub5=int(input(\"Enter the marks for Subject5:\"))\n",
    "calc_percent()"
   ]
  },
  {
   "cell_type": "code",
   "execution_count": null,
   "id": "aa6f9b53-d1f7-4d09-8576-43b8a2d4aa5d",
   "metadata": {},
   "outputs": [],
   "source": [
    "#Area and perimetre of a triangle"
   ]
  },
  {
   "cell_type": "code",
   "execution_count": 39,
   "id": "579a9354-93ca-42c1-ab60-f178fe7d104f",
   "metadata": {},
   "outputs": [],
   "source": [
    "def tri_peri():\n",
    "    peri=side1+side2+side3\n",
    "    print(\"The perimetre of the triangle is:\",peri)\n",
    "    return peri"
   ]
  },
  {
   "cell_type": "code",
   "execution_count": 40,
   "id": "44a4164a-5b06-4b9e-a2f0-0ccdea9364f0",
   "metadata": {},
   "outputs": [
    {
     "name": "stdin",
     "output_type": "stream",
     "text": [
      "Enter the value of side1: 24\n",
      "Enter the value of side2: 23\n",
      "Enter the value of side3: 25\n"
     ]
    },
    {
     "name": "stdout",
     "output_type": "stream",
     "text": [
      "The perimetre of the triangle is: 72\n"
     ]
    },
    {
     "data": {
      "text/plain": [
       "72"
      ]
     },
     "execution_count": 40,
     "metadata": {},
     "output_type": "execute_result"
    }
   ],
   "source": [
    "side1=int(input(\"Enter the value of side1:\"))\n",
    "side2=int(input(\"Enter the value of side2:\"))\n",
    "side3=int(input(\"Enter the value of side3:\"))\n",
    "tri_peri()"
   ]
  },
  {
   "cell_type": "code",
   "execution_count": 42,
   "id": "be4dbaf4-580c-4f24-a58d-c4faf428e08c",
   "metadata": {},
   "outputs": [],
   "source": [
    "def tri_area():\n",
    "    ar=breadth*height\n",
    "    area=ar/2\n",
    "    print(\"The area of the given triangle is:\",area)\n",
    "    return area"
   ]
  },
  {
   "cell_type": "code",
   "execution_count": 43,
   "id": "6d471f2b-3e4b-4040-b43e-6ab533e13df8",
   "metadata": {},
   "outputs": [
    {
     "name": "stdin",
     "output_type": "stream",
     "text": [
      "Enter the breadth: 23\n",
      "Enter the height: 24\n"
     ]
    },
    {
     "name": "stdout",
     "output_type": "stream",
     "text": [
      "The area of the given triangle is: 276.0\n"
     ]
    },
    {
     "data": {
      "text/plain": [
       "276.0"
      ]
     },
     "execution_count": 43,
     "metadata": {},
     "output_type": "execute_result"
    }
   ],
   "source": [
    "breadth=int(input(\"Enter the breadth:\"))\n",
    "height=int(input(\"Enter the height:\"))\n",
    "tri_area()"
   ]
  },
  {
   "cell_type": "code",
   "execution_count": null,
   "id": "dd4cb803-652a-4370-b2c3-f64c235daeac",
   "metadata": {},
   "outputs": [],
   "source": []
  }
 ],
 "metadata": {
  "kernelspec": {
   "display_name": "Python [conda env:base] *",
   "language": "python",
   "name": "conda-base-py"
  },
  "language_info": {
   "codemirror_mode": {
    "name": "ipython",
    "version": 3
   },
   "file_extension": ".py",
   "mimetype": "text/x-python",
   "name": "python",
   "nbconvert_exporter": "python",
   "pygments_lexer": "ipython3",
   "version": "3.13.5"
  }
 },
 "nbformat": 4,
 "nbformat_minor": 5
}
