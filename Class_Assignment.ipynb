{
 "cells": [
  {
   "cell_type": "code",
   "execution_count": 3,
   "id": "5c8ee33b-2cec-4408-8acf-f139df93e865",
   "metadata": {},
   "outputs": [],
   "source": [
    "from multiplefunctions import MultiFunctions"
   ]
  },
  {
   "cell_type": "code",
   "execution_count": null,
   "id": "c7f4de7e-8e3c-4366-b742-bb0b7c5fb7f7",
   "metadata": {},
   "outputs": [],
   "source": [
    "#sub_ai()\n",
    "#OddEven()\n",
    "#Elig_Mar()\n",
    "#calc_percent()\n",
    "#tri_peri()\n",
    "#tri_area()"
   ]
  },
  {
   "cell_type": "code",
   "execution_count": 4,
   "id": "9e6b9aa6-ec43-4ca3-867b-af0dc39a240b",
   "metadata": {},
   "outputs": [
    {
     "name": "stdout",
     "output_type": "stream",
     "text": [
      "Subfields in AI are:\n",
      "Machine Learning\n",
      "Neural Networks\n",
      "Vision\n",
      "Robotics\n",
      "Speech Processing\n",
      "Natural Language Processing\n"
     ]
    }
   ],
   "source": [
    "MultiFunctions.sub_ai()"
   ]
  },
  {
   "cell_type": "code",
   "execution_count": 5,
   "id": "5388791a-3f8d-4dca-93e2-acaa208cf6db",
   "metadata": {},
   "outputs": [
    {
     "name": "stdin",
     "output_type": "stream",
     "text": [
      "Enter the number 55\n"
     ]
    },
    {
     "name": "stdout",
     "output_type": "stream",
     "text": [
      "55  is an Odd number\n"
     ]
    }
   ],
   "source": [
    "MultiFunctions.OddEven()"
   ]
  },
  {
   "cell_type": "code",
   "execution_count": 7,
   "id": "b1aedb51-94d1-443f-a9dc-c2884330b203",
   "metadata": {},
   "outputs": [
    {
     "name": "stdin",
     "output_type": "stream",
     "text": [
      "Enter your age: 12\n",
      "Enter your gender(male or female): female\n"
     ]
    },
    {
     "name": "stdout",
     "output_type": "stream",
     "text": [
      "You are not eligible for marriage\n"
     ]
    }
   ],
   "source": [
    "MultiFunctions.Elig_Mar()"
   ]
  },
  {
   "cell_type": "code",
   "execution_count": 8,
   "id": "efba27ed-9539-49d7-92ba-d761c3ff5f13",
   "metadata": {},
   "outputs": [
    {
     "name": "stdin",
     "output_type": "stream",
     "text": [
      "Enter the marks for Subject1: 54\n",
      "Enter the marks for Subject2: 65\n",
      "Enter the marks for Subject3: 76\n",
      "Enter the marks for Subject4: 87\n",
      "Enter the marks for Subject5: 35\n"
     ]
    },
    {
     "name": "stdout",
     "output_type": "stream",
     "text": [
      "Your percentage is: 63.4\n"
     ]
    },
    {
     "data": {
      "text/plain": [
       "63.4"
      ]
     },
     "execution_count": 8,
     "metadata": {},
     "output_type": "execute_result"
    }
   ],
   "source": [
    "MultiFunctions.calc_percent()"
   ]
  },
  {
   "cell_type": "code",
   "execution_count": 9,
   "id": "0ed46cdf-7dad-4d8e-a85b-bc43e0a22ff9",
   "metadata": {},
   "outputs": [
    {
     "name": "stdin",
     "output_type": "stream",
     "text": [
      "Enter the value of side1: 34\n",
      "Enter the value of side2: 23\n",
      "Enter the value of side3: 45\n"
     ]
    },
    {
     "name": "stdout",
     "output_type": "stream",
     "text": [
      "The perimetre of the triangle is: 102\n"
     ]
    },
    {
     "data": {
      "text/plain": [
       "102"
      ]
     },
     "execution_count": 9,
     "metadata": {},
     "output_type": "execute_result"
    }
   ],
   "source": [
    "MultiFunctions.tri_peri()"
   ]
  },
  {
   "cell_type": "code",
   "execution_count": 10,
   "id": "91ebf1f3-da8a-4835-867d-bb84a97f10c3",
   "metadata": {},
   "outputs": [
    {
     "name": "stdin",
     "output_type": "stream",
     "text": [
      "Enter the breadth: 56\n",
      "Enter the height: 67\n"
     ]
    },
    {
     "name": "stdout",
     "output_type": "stream",
     "text": [
      "The area of the given triangle is: 1876.0\n"
     ]
    },
    {
     "data": {
      "text/plain": [
       "1876.0"
      ]
     },
     "execution_count": 10,
     "metadata": {},
     "output_type": "execute_result"
    }
   ],
   "source": [
    "MultiFunctions.tri_area()"
   ]
  },
  {
   "cell_type": "code",
   "execution_count": null,
   "id": "e735763d-19a1-47a2-aaeb-fe47674186b9",
   "metadata": {},
   "outputs": [],
   "source": []
  }
 ],
 "metadata": {
  "kernelspec": {
   "display_name": "Python [conda env:base] *",
   "language": "python",
   "name": "conda-base-py"
  },
  "language_info": {
   "codemirror_mode": {
    "name": "ipython",
    "version": 3
   },
   "file_extension": ".py",
   "mimetype": "text/x-python",
   "name": "python",
   "nbconvert_exporter": "python",
   "pygments_lexer": "ipython3",
   "version": "3.13.5"
  }
 },
 "nbformat": 4,
 "nbformat_minor": 5
}
