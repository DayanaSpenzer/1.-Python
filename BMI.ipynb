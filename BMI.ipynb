{
 "cells": [
  {
   "cell_type": "code",
   "execution_count": 1,
   "id": "311005dc-684b-432e-99d5-109f7e18b267",
   "metadata": {},
   "outputs": [],
   "source": [
    "#BMI"
   ]
  },
  {
   "cell_type": "code",
   "execution_count": 26,
   "id": "7003a2ba-a636-41a8-8219-0294ad43e8fe",
   "metadata": {},
   "outputs": [
    {
     "name": "stdin",
     "output_type": "stream",
     "text": [
      "Enter your weight in KG: 85\n",
      "Enter your height in metre: 1.65\n"
     ]
    },
    {
     "name": "stdout",
     "output_type": "stream",
     "text": [
      "Your BMI is: 31.22130394857668\n"
     ]
    }
   ],
   "source": [
    "Wght=float(input(\"Enter your weight in KG:\"))\n",
    "Hght1=float(input(\"Enter your height in metre:\"))\n",
    "Hght2=float(Hght1*Hght1)\n",
    "BMI=float(Wght/Hght2)\n",
    "print(\"Your BMI is:\", BMI)"
   ]
  },
  {
   "cell_type": "code",
   "execution_count": 27,
   "id": "834f9771-aa2e-440e-a190-57b8f8665bb3",
   "metadata": {},
   "outputs": [
    {
     "name": "stdout",
     "output_type": "stream",
     "text": [
      "Obese\n"
     ]
    }
   ],
   "source": [
    "def Is_Healthy(bmi):\n",
    "    if bmi<18.5:\n",
    "       print(\"Underweight\")\n",
    "    elif bmi >=18.5 and bmi<=24.9:\n",
    "       print(\"Healthy Weight\")\n",
    "    elif bmi>= 25 and bmi<30:\n",
    "        print(\"Overweight\")\n",
    "    elif bmi>=30:\n",
    "        print(\"Obese\")\n",
    "    \n",
    "Is_Healthy(BMI)\n"
   ]
  },
  {
   "cell_type": "code",
   "execution_count": null,
   "id": "2f7de492-4f83-47a6-a705-f1ebaf0b01d3",
   "metadata": {},
   "outputs": [],
   "source": []
  },
  {
   "cell_type": "code",
   "execution_count": null,
   "id": "579e82a2-dfb7-4232-a8e7-99e741d0a33b",
   "metadata": {},
   "outputs": [],
   "source": []
  },
  {
   "cell_type": "code",
   "execution_count": null,
   "id": "28561c7c-ce1d-4e8f-bc90-82e4a6cea80d",
   "metadata": {},
   "outputs": [],
   "source": []
  },
  {
   "cell_type": "code",
   "execution_count": null,
   "id": "286e3088-2a0a-41b0-b7db-d25e4c5d3409",
   "metadata": {},
   "outputs": [],
   "source": []
  }
 ],
 "metadata": {
  "kernelspec": {
   "display_name": "Python [conda env:base] *",
   "language": "python",
   "name": "conda-base-py"
  },
  "language_info": {
   "codemirror_mode": {
    "name": "ipython",
    "version": 3
   },
   "file_extension": ".py",
   "mimetype": "text/x-python",
   "name": "python",
   "nbconvert_exporter": "python",
   "pygments_lexer": "ipython3",
   "version": "3.13.5"
  }
 },
 "nbformat": 4,
 "nbformat_minor": 5
}
